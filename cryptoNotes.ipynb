{
  "cells": [
    {
      "cell_type": "markdown",
      "metadata": {
        "id": "view-in-github",
        "colab_type": "text"
      },
      "source": [
        "<a href=\"https://colab.research.google.com/github/hafizfarhad/ctf/blob/main/cryptoNotes.ipynb\" target=\"_parent\"><img src=\"https://colab.research.google.com/assets/colab-badge.svg\" alt=\"Open In Colab\"/></a>"
      ]
    },
    {
      "cell_type": "markdown",
      "source": [
        "# Crytography Notes\n",
        "by [hafizfarhad](https://hafizfarhad.com)"
      ],
      "metadata": {
        "id": "M9zylJOWH6AI"
      }
    },
    {
      "cell_type": "markdown",
      "source": [
        "*Disclaimer: I am writing these notes to keep track of MY learning.*"
      ],
      "metadata": {
        "id": "aczqD_XTZX0W"
      }
    },
    {
      "cell_type": "markdown",
      "source": [
        "\n",
        "## ASCII\n"
      ],
      "metadata": {
        "id": "QAB870NsW7QM"
      }
    },
    {
      "cell_type": "markdown",
      "source": [
        "[ASCII table](https://www.rapidtables.com/code/text/ascii-table.html)\n",
        "\n",
        "[Hexadecimal](https://en.wikipedia.org/wiki/Hexadecimal)"
      ],
      "metadata": {
        "id": "W3sxp0AnWFft"
      }
    },
    {
      "cell_type": "code",
      "source": [
        "text = \"seven8seven{ascii_is_fun}\"\n",
        "ascii_values = [ord(char) for char in text]\n",
        "print(ascii_values)"
      ],
      "metadata": {
        "id": "ZAp0Xer8LuFp",
        "outputId": "a5954b75-1a8b-46b0-d148-d817f7246609",
        "colab": {
          "base_uri": "https://localhost:8080/"
        }
      },
      "execution_count": null,
      "outputs": [
        {
          "output_type": "stream",
          "name": "stdout",
          "text": [
            "[115, 101, 118, 101, 110, 56, 115, 101, 118, 101, 110, 123, 65, 83, 67, 73, 73, 95, 73, 83, 95, 70, 85, 78, 125]\n"
          ]
        }
      ]
    },
    {
      "cell_type": "code",
      "source": [
        "ascii_values = [115, 101, 118, 101, 110, 56, 115, 101, 118, 101, 110, 123, 65, 83, 67, 73, 73, 95, 73, 83, 95, 70, 85, 78, 125]\n",
        "text = [chr(element) for element in ascii_values]\n",
        "print(text)\n",
        "text = ''.join(text) # get the list of characters and join it as string.\n",
        "print(text)"
      ],
      "metadata": {
        "id": "qTltqhTZL_P9",
        "outputId": "65bd54e3-2d8c-4e73-b0ca-a076ce79e2be",
        "colab": {
          "base_uri": "https://localhost:8080/"
        }
      },
      "execution_count": null,
      "outputs": [
        {
          "output_type": "stream",
          "name": "stdout",
          "text": [
            "['s', 'e', 'v', 'e', 'n', '8', 's', 'e', 'v', 'e', 'n', '{', 'A', 'S', 'C', 'I', 'I', '_', 'I', 'S', '_', 'F', 'U', 'N', '}']\n",
            "seven8seven{ASCII_IS_FUN}\n"
          ]
        }
      ]
    },
    {
      "cell_type": "code",
      "source": [
        "string = \"736576656e38736576656e7b6865785f69735f6d616769635f69736e27745f69743f7d\"\n",
        "print(bytes.fromhex(string)) # apply .decode() method if you want bytes to string\n",
        "\n",
        "text = \"seven8seven{hex_is_magic_isn't_it?}\"\n",
        "print(text.encode().hex()) # take the text, convert it into bytes and then bytes to hex."
      ],
      "metadata": {
        "id": "fID1LRrvOeoh",
        "outputId": "dbe2e419-a0fb-4b12-b2d8-b5ad4d2021d2",
        "colab": {
          "base_uri": "https://localhost:8080/"
        }
      },
      "execution_count": null,
      "outputs": [
        {
          "output_type": "stream",
          "name": "stdout",
          "text": [
            "b\"seven8seven{hex_is_magic_isn't_it?}\"\n",
            "736576656e38736576656e7b6865785f69735f6d616769635f69736e27745f69743f7d\n"
          ]
        }
      ]
    },
    {
      "cell_type": "markdown",
      "source": [
        "### BASE64"
      ],
      "metadata": {
        "id": "6wD5EOFJWt5B"
      }
    },
    {
      "cell_type": "code",
      "source": [
        "import base64\n",
        "\n",
        "\n",
        "hex_string = \"72bca9b68fc16ac7beeb8f849dca1d8a783e8acf9679bf9269f7bf\"\n",
        "decoded_bytes = bytes.fromhex(hex_string)\n",
        "encoded_string = base64.b64encode(decoded_bytes).decode()\n",
        "print(encoded_string)"
      ],
      "metadata": {
        "id": "4_jufv59Wx_x",
        "outputId": "1dd0fd7a-757c-4ce6-da3b-2c74307a934e",
        "colab": {
          "base_uri": "https://localhost:8080/"
        }
      },
      "execution_count": null,
      "outputs": [
        {
          "output_type": "stream",
          "name": "stdout",
          "text": [
            "crypto/Base+64+Encoding+is+Web+Safe/\n"
          ]
        }
      ]
    },
    {
      "cell_type": "code",
      "source": [
        "!pip install pycryptodome"
      ],
      "metadata": {
        "id": "j_Nbw1qi606D",
        "outputId": "c3ac40bf-aa5b-4d0d-d461-2460e091ae97",
        "colab": {
          "base_uri": "https://localhost:8080/"
        }
      },
      "execution_count": null,
      "outputs": [
        {
          "output_type": "stream",
          "name": "stdout",
          "text": [
            "Collecting pycryptodome\n",
            "  Downloading pycryptodome-3.21.0-cp36-abi3-manylinux_2_17_x86_64.manylinux2014_x86_64.whl.metadata (3.4 kB)\n",
            "Downloading pycryptodome-3.21.0-cp36-abi3-manylinux_2_17_x86_64.manylinux2014_x86_64.whl (2.3 MB)\n",
            "\u001b[?25l   \u001b[90m━━━━━━━━━━━━━━━━━━━━━━━━━━━━━━━━━━━━━━━━\u001b[0m \u001b[32m0.0/2.3 MB\u001b[0m \u001b[31m?\u001b[0m eta \u001b[36m-:--:--\u001b[0m\r\u001b[2K   \u001b[91m━━━━━━━━━━\u001b[0m\u001b[91m╸\u001b[0m\u001b[90m━━━━━━━━━━━━━━━━━━━━━━━━━━━━━\u001b[0m \u001b[32m0.6/2.3 MB\u001b[0m \u001b[31m19.6 MB/s\u001b[0m eta \u001b[36m0:00:01\u001b[0m\r\u001b[2K   \u001b[90m━━━━━━━━━━━━━━━━━━━━━━━━━━━━━━━━━━━━━━━━\u001b[0m \u001b[32m2.3/2.3 MB\u001b[0m \u001b[31m34.6 MB/s\u001b[0m eta \u001b[36m0:00:00\u001b[0m\n",
            "\u001b[?25hInstalling collected packages: pycryptodome\n",
            "Successfully installed pycryptodome-3.21.0\n"
          ]
        }
      ]
    },
    {
      "cell_type": "code",
      "source": [
        "from Crypto.Util.number import *\n",
        "# without pycryptodome\n",
        "int_message = 11515195063862318899931685488813747395775516287289682636499965282714637259206269\n",
        "hex_string = hex(int_message)\n",
        "print(hex_string)\n",
        "\n",
        "clean_hex = hex_string[2:]  # Remove the '0x' prefix\n",
        "print(clean_hex)\n",
        "\n",
        "decoded_bytes = bytes.fromhex(clean_hex)  #\n",
        "print(decoded_bytes.decode())\n",
        "\n",
        "# with pycryptodome\n",
        "print(long_to_bytes(int_message).decode())"
      ],
      "metadata": {
        "id": "d2ECTrXk0lH8",
        "outputId": "985f2735-8a30-4736-90e8-9422c72faaa9",
        "colab": {
          "base_uri": "https://localhost:8080/"
        }
      },
      "execution_count": null,
      "outputs": [
        {
          "output_type": "stream",
          "name": "stdout",
          "text": [
            "0x63727970746f7b336e633064316e365f346c6c5f3768335f7734795f6430776e7d\n",
            "63727970746f7b336e633064316e365f346c6c5f3768335f7734795f6430776e7d\n",
            "crypto{3nc0d1n6_4ll_7h3_w4y_d0wn}\n",
            "crypto{3nc0d1n6_4ll_7h3_w4y_d0wn}\n"
          ]
        }
      ]
    },
    {
      "cell_type": "code",
      "source": [
        "operation = 0b0110 ^ 0b1010  # XOR operation\n",
        "print(bin(operation))  # Output in binary\n",
        "print(operation)\n",
        "\n",
        "\n",
        "string = 'label'\n",
        "integer = 13\n",
        "\n",
        "ascii_values = [ord(char) for char in string] # convert string into unicode chars\n",
        "print(ascii_values)\n",
        "xor_values = [value ^ integer for value in ascii_values] # xor each letter with 13\n",
        "print(xor_values)\n",
        "text_list = [chr(element) for element in xor_values]\n",
        "print(text_list)\n",
        "text = ''.join(text_list) # get the list of characters and join it as string.\n",
        "print(text)"
      ],
      "metadata": {
        "id": "Fb6_XUt_JXU_",
        "outputId": "de52fcac-5616-4ec2-ea2f-70d8121704cf",
        "colab": {
          "base_uri": "https://localhost:8080/"
        }
      },
      "execution_count": null,
      "outputs": [
        {
          "output_type": "stream",
          "name": "stdout",
          "text": [
            "0b1100\n",
            "12\n",
            "[108, 97, 98, 101, 108]\n",
            "[97, 108, 111, 104, 97]\n",
            "['a', 'l', 'o', 'h', 'a']\n",
            "aloha\n"
          ]
        }
      ]
    },
    {
      "cell_type": "code",
      "source": [
        "# I dont know why but I was unable to install the pwntools on colab.\n",
        "# !pip install pwntools\n",
        "\n",
        "# Solution:\n",
        "\n",
        "# from pwn import *\n",
        "\n",
        "# print(xor(b'label', 13))\n",
        "\n",
        "# output: aloha"
      ],
      "metadata": {
        "id": "5P69GgRdN0YL"
      },
      "execution_count": null,
      "outputs": []
    },
    {
      "cell_type": "code",
      "source": [
        "\n",
        "# Commutative: A ⊕ B = B ⊕ A\n",
        "# Associative: A ⊕ (B ⊕ C) = (A ⊕ B) ⊕ C\n",
        "# Identity: A ⊕ 0 = A\n",
        "# Self-Inverse: A ⊕ A = 0\n",
        "\n",
        "from pwn import *\n",
        "\n",
        "A = \"a6c8b6733c9b22de7bc0253266a3867df55acde8635e19c73313\"\n",
        "print(\"A: \", bytes.fromhex(A))\n",
        "\n",
        "A_XOR_B = \"37dcb292030faa90d07eec17e3b1c6d8daf94c35d4c9191a5e1e\"\n",
        "print(\"A XOR B: \", bytes.fromhex(A_XOR_B))\n",
        "\n",
        "B = xor(bytes.fromhex(A_XOR_B), bytes.fromhex(A))\n",
        "print(\"B: \", B)\n",
        "\n",
        "B_XOR_C = \"c1545756687e7573db23aa1c3452a098b71a7fbf0fddddde5fc1\"\n",
        "print(\"B XOR C: \", bytes.fromhex(B_XOR_C))\n",
        "\n",
        "C = xor(bytes.fromhex(B_XOR_C), B)\n",
        "print(\"C: \", C)\n",
        "\n",
        "print(\"A XOR (B XOR C): \", xor(bytes.fromhex(A), bytes.fromhex(B_XOR_C))) # A XOR (B XOR C)\n",
        "\n",
        "print(\"(A XOR B) XOR C: \", xor(bytes.fromhex(B_XOR_C), bytes.fromhex(A_XOR_B), bytes.fromhex(A), bytes.fromhex(A_XOR_B))) # (A XOR B) XOR C\n",
        "\n",
        "FLAG_XOR_A_XOR_B_XOR_C = \"04ee9855208a2cd59091d04767ae47963170d1660df7f56f5faf\"\n",
        "print(xor(bytes.fromhex(A), B, C, bytes.fromhex(FLAG_XOR_A_XOR_B_XOR_C))) # FLAG"
      ],
      "metadata": {
        "id": "zpZFf-82TLxd"
      },
      "execution_count": null,
      "outputs": []
    },
    {
      "cell_type": "code",
      "source": [
        "from pwn import *\n",
        "# brute-force byte\n",
        "for i in range(255):\n",
        "    print(xor(bytes.fromhex(\"73626960647f6b206821204f21254f7d694f7624662065622127234f726927756d\"), i))\n"
      ],
      "metadata": {
        "id": "AP0FhL6fkygX"
      },
      "execution_count": null,
      "outputs": []
    },
    {
      "cell_type": "code",
      "source": [
        "from pwn import xor\n",
        "\n",
        "string = \"0e0b213f26041e480b26217f27342e175d0e070a3c5b103e2526217f27342e175d0e077e263451150104\"\n",
        "ciphertext = bytes.fromhex(string)\n",
        "print(ciphertext)\n",
        "\n",
        "known_plaintext = b\"crypto{}\"\n",
        "print(ciphertext[:7])\n",
        "key = xor(ciphertext[:7], known_plaintext)\n",
        "print(key)\n",
        "# output: \"myXORke\" which wasn't correct so i tried to manually pass the key\n",
        "key = \"myXORkey\"\n",
        "msg = key.encode().hex()\n",
        "print(msg)\n",
        "\n",
        "decrypted = xor(ciphertext, bytes.fromhex(msg))\n",
        "print(decrypted.decode())"
      ],
      "metadata": {
        "id": "tRqC28ZyQS3E"
      },
      "execution_count": null,
      "outputs": []
    },
    {
      "cell_type": "markdown",
      "source": [
        "# GCD"
      ],
      "metadata": {
        "id": "Cdgrc_2zjSFC"
      }
    },
    {
      "cell_type": "code",
      "source": [
        "import math\n",
        "math.gcd(12,8)"
      ],
      "metadata": {
        "id": "nK91AAynjUYp",
        "outputId": "4dae2ece-182b-4c28-932d-6c430373c6e8",
        "colab": {
          "base_uri": "https://localhost:8080/"
        }
      },
      "execution_count": null,
      "outputs": [
        {
          "output_type": "execute_result",
          "data": {
            "text/plain": [
              "4"
            ]
          },
          "metadata": {},
          "execution_count": 1
        }
      ]
    },
    {
      "cell_type": "markdown",
      "source": [
        "## EEA"
      ],
      "metadata": {
        "id": "GD7pEq6GlUtI"
      }
    },
    {
      "cell_type": "code",
      "source": [
        "# a,b are congurent to m\n",
        "\n",
        "# a = b mod m\n",
        "\n",
        "# a % m = b\n",
        "\n",
        "a = 8146798528947\n",
        "m = 17\n",
        "b = a % m\n",
        "print(b)"
      ],
      "metadata": {
        "id": "HiMknhdTlYC1",
        "outputId": "2e60b099-83de-4217-9905-95790ab38031",
        "colab": {
          "base_uri": "https://localhost:8080/"
        }
      },
      "execution_count": null,
      "outputs": [
        {
          "output_type": "stream",
          "name": "stdout",
          "text": [
            "4\n"
          ]
        }
      ]
    },
    {
      "cell_type": "markdown",
      "source": [
        "## Fermat's little theorem\n",
        "Since 17 is a prime number, the numbers 0,1,2,3,...,16 form a field F17."
      ],
      "metadata": {
        "id": "AljzQ0BsmhGe"
      }
    },
    {
      "cell_type": "code",
      "source": [
        "def modular_inverse(g, p):\n",
        "    return pow(g, p-2, p)  # Computes (g^(p-2)) % p\n",
        "\n",
        "# Example usage\n",
        "g = 3\n",
        "p = 13\n",
        "inverse = modular_inverse(g, p)\n",
        "print(f\"The modular inverse of {g} mod {p} is {inverse}\")  # Output: 8\n"
      ],
      "metadata": {
        "id": "DTq-SAW0qoic",
        "outputId": "a1474779-64cb-4c0c-d20d-453c54275920",
        "colab": {
          "base_uri": "https://localhost:8080/"
        }
      },
      "execution_count": null,
      "outputs": [
        {
          "output_type": "stream",
          "name": "stdout",
          "text": [
            "The modular inverse of 3 mod 13 is 9\n"
          ]
        }
      ]
    },
    {
      "cell_type": "code",
      "source": [
        "a = 11\n",
        "p = 29\n",
        "a_square = pow(a, 2)\n",
        "square_root_a = a_square % p\n",
        "print(square_root_a)\n",
        "# As a=11, and a_square=5 we say the square root of 5 is 11.\n",
        "\n",
        "\n",
        "# General Function:\n",
        "a_square = 18\n",
        "p = 29\n",
        "\n",
        "for a in range(1, p):\n",
        "    if (a * a) % p == a_square:  # Check if a^2 ≡ 18 mod 29\n",
        "        print(f'Found square root of {a_square} mod {p}: {a}')\n"
      ],
      "metadata": {
        "id": "W8Ab6xWXOBXr",
        "outputId": "a6296e7c-e6bc-4200-a1cf-831f3fc56702",
        "colab": {
          "base_uri": "https://localhost:8080/"
        }
      },
      "execution_count": null,
      "outputs": [
        {
          "output_type": "stream",
          "name": "stdout",
          "text": [
            "5\n"
          ]
        }
      ]
    },
    {
      "cell_type": "code",
      "source": [
        "# Quadratic Residues\n",
        "\n",
        "import math\n",
        "\n",
        "p = 29\n",
        "a = 11\n",
        "a_square = pow(a, 2, p) # a^2 = 5 mod 29\n",
        "print(a_square)\n",
        "\n",
        "# Hence we sa that square root of 5 is 11.\n",
        "\n",
        "p = 113\n",
        "a = 108\n",
        "a_square = pow(a, 2, p)\n",
        "print(f\"Square root of {a_square} is {p}\")\n",
        "\n",
        "# square root of 25 is 113\n",
        "\n",
        "\n",
        "# what is square root of 18?\n",
        "# find a such that a_square = 18 (target),\n",
        "\n",
        "p = 29  # Prime number\n",
        "target = 6  # Number we want square roots of\n",
        "\n",
        "found = False\n",
        "for a in range(1, p-1):  # Loop through all numbers in Fp*\n",
        "    if pow(a, 2, p) == target:\n",
        "        print(f\"Square root of {target} mod {p} is {a}\")\n",
        "        found = True\n",
        "\n",
        "if not found:\n",
        "    print(f\"{target} has no square root modulo {p}.\")\n",
        "\n",
        "#  notes:\n",
        "# a is always < p\n",
        "# If a number has a square root, it always has two\n",
        "# half of p has square root\n"
      ],
      "metadata": {
        "colab": {
          "base_uri": "https://localhost:8080/"
        },
        "id": "uCBAEgmQi0Hu",
        "outputId": "3904fc63-c52f-4b04-9362-abb86e002c75"
      },
      "execution_count": 26,
      "outputs": [
        {
          "output_type": "stream",
          "name": "stdout",
          "text": [
            "5\n",
            "Square root of 25 is 113\n",
            "Square root of 6 mod 29 is 8\n",
            "Square root of 6 mod 29 is 21\n"
          ]
        }
      ]
    }
  ],
  "metadata": {
    "colab": {
      "name": "Welcome To Colab",
      "provenance": [],
      "include_colab_link": true
    },
    "kernelspec": {
      "display_name": "Python 3",
      "name": "python3"
    }
  },
  "nbformat": 4,
  "nbformat_minor": 0
}