{
  "cells": [
    {
      "cell_type": "markdown",
      "metadata": {
        "id": "view-in-github",
        "colab_type": "text"
      },
      "source": [
        "<a href=\"https://colab.research.google.com/github/hafizfarhad/ctf/blob/main/cryptoNotes.ipynb\" target=\"_parent\"><img src=\"https://colab.research.google.com/assets/colab-badge.svg\" alt=\"Open In Colab\"/></a>"
      ]
    },
    {
      "cell_type": "markdown",
      "source": [
        "# Crytography Notes\n",
        "by [hafizfarhad](https://hafizfarhad.com)"
      ],
      "metadata": {
        "id": "M9zylJOWH6AI"
      }
    },
    {
      "cell_type": "markdown",
      "source": [
        "*Disclaimer: I am writing these notes to keep track of MY learning.*"
      ],
      "metadata": {
        "id": "aczqD_XTZX0W"
      }
    },
    {
      "cell_type": "markdown",
      "source": [
        "\n",
        "## ASCII\n"
      ],
      "metadata": {
        "id": "QAB870NsW7QM"
      }
    },
    {
      "cell_type": "markdown",
      "source": [
        "[ASCII table](https://www.rapidtables.com/code/text/ascii-table.html)\n",
        "\n",
        "[Hexadecimal](https://en.wikipedia.org/wiki/Hexadecimal)"
      ],
      "metadata": {
        "id": "W3sxp0AnWFft"
      }
    },
    {
      "cell_type": "code",
      "source": [
        "text = \"seven8seven{ascii_is_fun}\"\n",
        "ascii_values = [ord(char) for char in text]\n",
        "print(ascii_values)"
      ],
      "metadata": {
        "id": "ZAp0Xer8LuFp",
        "outputId": "a5954b75-1a8b-46b0-d148-d817f7246609",
        "colab": {
          "base_uri": "https://localhost:8080/"
        }
      },
      "execution_count": 2,
      "outputs": [
        {
          "output_type": "stream",
          "name": "stdout",
          "text": [
            "[115, 101, 118, 101, 110, 56, 115, 101, 118, 101, 110, 123, 65, 83, 67, 73, 73, 95, 73, 83, 95, 70, 85, 78, 125]\n"
          ]
        }
      ]
    },
    {
      "cell_type": "code",
      "source": [
        "ascii_values = [115, 101, 118, 101, 110, 56, 115, 101, 118, 101, 110, 123, 65, 83, 67, 73, 73, 95, 73, 83, 95, 70, 85, 78, 125]\n",
        "text = [chr(element) for element in ascii_values]\n",
        "print(text)\n",
        "text = ''.join(text) # get the list of characters and join it as string.\n",
        "print(text)"
      ],
      "metadata": {
        "id": "qTltqhTZL_P9",
        "outputId": "65bd54e3-2d8c-4e73-b0ca-a076ce79e2be",
        "colab": {
          "base_uri": "https://localhost:8080/"
        }
      },
      "execution_count": 5,
      "outputs": [
        {
          "output_type": "stream",
          "name": "stdout",
          "text": [
            "['s', 'e', 'v', 'e', 'n', '8', 's', 'e', 'v', 'e', 'n', '{', 'A', 'S', 'C', 'I', 'I', '_', 'I', 'S', '_', 'F', 'U', 'N', '}']\n",
            "seven8seven{ASCII_IS_FUN}\n"
          ]
        }
      ]
    },
    {
      "cell_type": "code",
      "source": [
        "string = \"736576656e38736576656e7b6865785f69735f6d616769635f69736e27745f69743f7d\"\n",
        "print(bytes.fromhex(string)) # apply .decode() method if you want bytes to string\n",
        "\n",
        "text = \"seven8seven{hex_is_magic_isn't_it?}\"\n",
        "print(text.encode().hex()) # take the text, convert it into bytes and then bytes to hex."
      ],
      "metadata": {
        "id": "fID1LRrvOeoh",
        "outputId": "dbe2e419-a0fb-4b12-b2d8-b5ad4d2021d2",
        "colab": {
          "base_uri": "https://localhost:8080/"
        }
      },
      "execution_count": 26,
      "outputs": [
        {
          "output_type": "stream",
          "name": "stdout",
          "text": [
            "b\"seven8seven{hex_is_magic_isn't_it?}\"\n",
            "736576656e38736576656e7b6865785f69735f6d616769635f69736e27745f69743f7d\n"
          ]
        }
      ]
    },
    {
      "cell_type": "markdown",
      "source": [
        "### BASE64"
      ],
      "metadata": {
        "id": "6wD5EOFJWt5B"
      }
    },
    {
      "cell_type": "code",
      "source": [
        "import base64\n",
        "\n",
        "\n",
        "hex_string = \"72bca9b68fc16ac7beeb8f849dca1d8a783e8acf9679bf9269f7bf\"\n",
        "decoded_bytes = bytes.fromhex(hex_string)\n",
        "encoded_string = base64.b64encode(decoded_bytes).decode()\n",
        "print(encoded_string)"
      ],
      "metadata": {
        "id": "4_jufv59Wx_x",
        "outputId": "1dd0fd7a-757c-4ce6-da3b-2c74307a934e",
        "colab": {
          "base_uri": "https://localhost:8080/"
        }
      },
      "execution_count": 41,
      "outputs": [
        {
          "output_type": "stream",
          "name": "stdout",
          "text": [
            "crypto/Base+64+Encoding+is+Web+Safe/\n"
          ]
        }
      ]
    }
  ],
  "metadata": {
    "colab": {
      "name": "Welcome To Colab",
      "provenance": [],
      "include_colab_link": true
    },
    "kernelspec": {
      "display_name": "Python 3",
      "name": "python3"
    }
  },
  "nbformat": 4,
  "nbformat_minor": 0
}